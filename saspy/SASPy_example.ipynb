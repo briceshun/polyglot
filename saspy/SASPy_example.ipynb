{
 "cells": [
  {
   "cell_type": "markdown",
   "metadata": {},
   "source": [
    "# SASPy Example\n",
    "## 1. Import Modules"
   ]
  },
  {
   "cell_type": "code",
   "execution_count": null,
   "metadata": {},
   "outputs": [],
   "source": [
    "# Basic modules\n",
    "import pandas\n",
    "import numpy\n",
    "from getpass import getuser, getpass\n",
    "import datetime as dt\n",
    "\n",
    "# SASPy\n",
    "import saspy\n",
    "\n",
    "# Display Options\n",
    "from IPython.display import HTML\n",
    "pd.set_option('display.max_columns', None)"
   ]
  },
  {
   "cell_type": "markdown",
   "metadata": {},
   "source": [
    "## 2. Setup SAS Connection"
   ]
  },
  {
   "cell_type": "code",
   "execution_count": null,
   "metadata": {},
   "outputs": [],
   "source": [
    "username = getuser()\n",
    "sas_session = saspy.SASsession(cfgfile=f\"C:\\\\Users\\\\{username}\\\\.saspy\\\\sascfg_personal.py\")"
   ]
  },
  {
   "cell_type": "markdown",
   "metadata": {},
   "source": [
    "## 3. SAS Enterprise Guide Variables"
   ]
  },
  {
   "cell_type": "code",
   "execution_count": null,
   "metadata": {},
   "outputs": [],
   "source": [
    "# Send to SAS\n",
    "setup_query = \"\"\"\n",
    "* Create _CLIENTUSERID. macro var;\n",
    "%let _CLIENTUSERID. = \"&_METAUSER.\";\n",
    "\"\"\"\n",
    "\n",
    "setup_results = sas_session.submit(setup_query)\n",
    "\n",
    "# To view results\n",
    "display(HTML(setup_results['LST']))\n",
    "\n",
    "# To view log\n",
    "print(setup_results['LOG'])\n",
    "print(sas_session.lastlog())"
   ]
  },
  {
   "cell_type": "markdown",
   "metadata": {},
   "source": [
    "## 4. `df2sd` Parameters\n",
    "Create dictionaries to store setup parameters to upload dataframe to SAS"
   ]
  },
  {
   "cell_type": "code",
   "execution_count": null,
   "metadata": {},
   "outputs": [],
   "source": [
    "dsopts = {\n",
    "    'format': {\n",
    "        'datadate': 'YYMMDDN8.'\n",
    "        }\n",
    "    }\n",
    "\n",
    "_datetimes = {\n",
    "    'datevar' : 'date'\n",
    "    }\n",
    "\n",
    "_outfmts = {\n",
    "    'datevar' : 'DATE9.'\n",
    "    }"
   ]
  },
  {
   "cell_type": "markdown",
   "metadata": {},
   "source": [
    "## 5. SAS Magic Command"
   ]
  },
  {
   "cell_type": "code",
   "execution_count": null,
   "metadata": {},
   "outputs": [],
   "source": [
    "%%SAS sas_session\n",
    "proc sql outobs=5;\n",
    "    select * from sashelp.cars;\n",
    "quit;"
   ]
  },
  {
   "cell_type": "markdown",
   "metadata": {},
   "source": [
    "## 6. `sasdata2dataframe` and `df2sd`\n",
    "This method enables us to retrieve data from SAS server into a Python dataframe.\n",
    "\n",
    "`sasdata2dataframe` downloads data locally.\n",
    "\n",
    "`df2sd` uploads data to the SAS server."
   ]
  },
  {
   "cell_type": "code",
   "execution_count": null,
   "metadata": {},
   "outputs": [],
   "source": [
    "# Download data\n",
    "df = sas_session.sasdata2dataframe(\n",
    "    table='cars',\n",
    "    libref='sashelp'\n",
    "    )"
   ]
  },
  {
   "cell_type": "code",
   "execution_count": null,
   "metadata": {},
   "outputs": [],
   "source": [
    "# Upload data to SAS\n",
    "sas_session.df2sd(\n",
    "    df = df,\n",
    "    table = 'cars',\n",
    "    libref = 'work',\n",
    "    datetimes = _datetimes,\n",
    "    outfmts = {\n",
    "        **{\n",
    "            # Add other formats here\n",
    "        },\n",
    "        **_outfmts\n",
    "        }\n",
    "    )"
   ]
  }
 ],
 "metadata": {
  "kernelspec": {
   "display_name": "Python 3",
   "language": "python",
   "name": "python3"
  },
  "language_info": {
   "name": "python",
   "version": "3.10.9"
  },
  "orig_nbformat": 4
 },
 "nbformat": 4,
 "nbformat_minor": 2
}
