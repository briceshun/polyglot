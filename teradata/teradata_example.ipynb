{
 "cells": [
  {
   "cell_type": "markdown",
   "metadata": {},
   "source": [
    "# Teradata Example\n",
    "## 1. Import Modules"
   ]
  },
  {
   "cell_type": "code",
   "execution_count": null,
   "metadata": {},
   "outputs": [],
   "source": [
    "# Basic modules\n",
    "import pandas as pd\n",
    "import numpy\n",
    "from getpass import getuser, getpass\n",
    "import datetime as dt\n",
    "\n",
    "# Teradata modules\n",
    "from sqlalchemy import create_engine\n",
    "from sqlalchemy.types import VARCHAR\n",
    "import teradatasqlalchemy\n",
    "import teradataml as tdml\n",
    "import teradatasql\n",
    "from teradataml.context.context import *\n",
    "from teradataml.dataframe.copy_to import copy_to_sql\n",
    "\n",
    "# Display Options\n",
    "from IPython.display import HTML\n",
    "pd.set_option('display.max_columns', None)"
   ]
  },
  {
   "cell_type": "markdown",
   "metadata": {},
   "source": [
    "## 2. Setup Connection"
   ]
  },
  {
   "cell_type": "code",
   "execution_count": null,
   "metadata": {},
   "outputs": [],
   "source": [
    "tdhost = ''\n",
    "username = getuser()\n",
    "passwrd = getpass('password(%s): ' % username)\n",
    "con_str = f'teradata://{username}:{passwrd}@{tdhost}/?logmech=LDAP'"
   ]
  },
  {
   "cell_type": "markdown",
   "metadata": {},
   "source": [
    "## 3. `teradataml`"
   ]
  },
  {
   "cell_type": "code",
   "execution_count": null,
   "metadata": {},
   "outputs": [],
   "source": [
    "# Create connection\n",
    "con = create_engine(con_str)\n",
    "create_context(tdsqlengine = con)"
   ]
  },
  {
   "cell_type": "code",
   "execution_count": null,
   "metadata": {},
   "outputs": [],
   "source": [
    "# Download table\n",
    "qry = \"\"\"\n",
    "select top 100 from table;\n",
    "\"\"\"\n",
    "df_td = tdml.DataFrame.from_query(qry)\n",
    "\n",
    "# Convert to DF\n",
    "df_pd = df_td.to_pandas()\n",
    "\n",
    "# Upload DF\n",
    "copy_to_sql(\n",
    "    df = df_pd,\n",
    "    schema = '',\n",
    "    table_name = '',\n",
    "    primary_index = '',\n",
    "    if_exists='replace'\n",
    ")\n",
    "\n",
    "# Upadte tables\n",
    "get_context().execute('delete from table all')\n",
    "\n",
    "# Aggregation\n",
    "df_td.select(['column1', 'column2', 'column3'])\\\n",
    "    .groupby(['column1', 'column2'])\\\n",
    "    .agg(['column3' : ['count', 'min', 'max']])\\\n",
    "    .sort(['column1', 'column2'])"
   ]
  },
  {
   "cell_type": "markdown",
   "metadata": {},
   "source": [
    "## 4. SQL Magic\n",
    "Load extensions"
   ]
  },
  {
   "cell_type": "code",
   "execution_count": null,
   "metadata": {},
   "outputs": [],
   "source": [
    "%load_ext sql\n",
    "%sql $con_str"
   ]
  },
  {
   "cell_type": "code",
   "execution_count": null,
   "metadata": {},
   "outputs": [],
   "source": [
    "%%sql df <<\n",
    "select top 100 from table;"
   ]
  },
  {
   "cell_type": "code",
   "execution_count": null,
   "metadata": {},
   "outputs": [],
   "source": [
    "# Inline queries\n",
    "df_inline = %sql select top 100 from table\n",
    "df_inline.DataFrame().head()\n",
    "\n",
    "# Passing variables\n",
    "test = '123'\n",
    "%sql select :test as col"
   ]
  },
  {
   "cell_type": "markdown",
   "metadata": {},
   "source": [
    "## 5. `teradatasql`"
   ]
  },
  {
   "cell_type": "code",
   "execution_count": null,
   "metadata": {},
   "outputs": [],
   "source": [
    "# Create connection\n",
    "con = teradatasql.connect(\n",
    "    None,\n",
    "    host = tdhost,\n",
    "    user = username,\n",
    "    password = passwrd,\n",
    "    logmech = 'LDAP'\n",
    "    )\n",
    "\n",
    "# Download data to DF\n",
    "df = pd.read_sql('select top 100 from table', con)"
   ]
  },
  {
   "cell_type": "code",
   "execution_count": null,
   "metadata": {},
   "outputs": [],
   "source": [
    "# Teradata curson\n",
    "with teradatasql.connect(\n",
    "    None,\n",
    "    host = tdhost,\n",
    "    user = username,\n",
    "    password = passwrd,\n",
    "    logmech = 'LDAP'\n",
    "    ) as con:\n",
    "\n",
    "    with con.cursor() as cur:\n",
    "        qry = \"\"\"\n",
    "        select top 100 from table;\n",
    "        \"\"\"\n",
    "        cur.execute(qry)\n",
    "        data_ = cur.fetchall() # fetch all the data from the last script if there are multiple script included\n",
    "        print(cur.rowcount) # print the last executed script rowcount"
   ]
  },
  {
   "cell_type": "code",
   "execution_count": null,
   "metadata": {},
   "outputs": [],
   "source": [
    "# Table operations\n",
    "df.to_sql(\n",
    "    'tableName',\n",
    "    con = con,\n",
    "    if_exists = 'replace',\n",
    "    index = False,\n",
    "    dtype = {'column1': VARCHAR(100)} # Need to set type for first column for index creation\n",
    "    )"
   ]
  },
  {
   "cell_type": "code",
   "execution_count": null,
   "metadata": {},
   "outputs": [],
   "source": [
    "# Closing connection\n",
    "con.close()"
   ]
  }
 ],
 "metadata": {
  "language_info": {
   "name": "python"
  },
  "orig_nbformat": 4
 },
 "nbformat": 4,
 "nbformat_minor": 2
}
